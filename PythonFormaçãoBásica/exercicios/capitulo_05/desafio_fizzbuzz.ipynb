{
 "cells": [
  {
   "attachments": {},
   "cell_type": "markdown",
   "metadata": {},
   "source": [
    "- Crie um objeto iterável com 100 dados do tipo numérico e imprima na tela a palavra 'Fizz' no lugar dos números divisíveis por 3, 'Buzz' no lugar dos números divisíveis por 05 e 'FizBuzz' no lugar dos números divisíveis por 3 e 5. Caso o número não atenda a nenhuma dessas condições, imprima o próprio número."
   ]
  }
 ],
 "metadata": {
  "kernelspec": {
   "display_name": "Python 3",
   "language": "python",
   "name": "python3"
  },
  "language_info": {
   "name": "python",
   "version": "3.8.10 (default, Nov 14 2022, 12:59:47) \n[GCC 9.4.0]"
  },
  "orig_nbformat": 4,
  "vscode": {
   "interpreter": {
    "hash": "916dbcbb3f70747c44a77c7bcd40155683ae19c65e1c03b4aa3499c5328201f1"
   }
  }
 },
 "nbformat": 4,
 "nbformat_minor": 2
}
