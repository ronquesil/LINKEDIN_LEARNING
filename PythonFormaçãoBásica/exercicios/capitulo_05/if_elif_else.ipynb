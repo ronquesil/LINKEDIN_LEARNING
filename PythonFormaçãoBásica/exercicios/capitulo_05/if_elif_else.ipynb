{
 "cells": [
  {
   "attachments": {},
   "cell_type": "markdown",
   "metadata": {},
   "source": [
    "- Crie uma lista com 30 dados do tipo numérico\n"
   ]
  },
  {
   "attachments": {},
   "cell_type": "markdown",
   "metadata": {},
   "source": [
    "- Dentro de um for loop, crie uma estrutura condicional que imprima na tela o número, caso ele seja maior do que 20. Se o número for 20, imprima 'Esse número é igual a 20.’ e se for maior do que 20, imprima ‘Esse número é maior do que 20.’\n"
   ]
  },
  {
   "attachments": {},
   "cell_type": "markdown",
   "metadata": {},
   "source": [
    "- Crie as seguintes variáveis contendo listas vazias: ate_12, entre_13_e_20, maior_21"
   ]
  },
  {
   "attachments": {},
   "cell_type": "markdown",
   "metadata": {},
   "source": [
    "- Dentro de um for loop, crie uma estrutura condicional que distribua em cada lista os números seguindo as condições abaixo: \n",
    "1. se o número for menor do que 12, armazene-o na lista ate_12\n",
    "2. se o número estiver entre 13 e 20, amazene-o na lista entre_13_e_20\n",
    "3. se o número for maior do 21, armazene-o na lista maior_21\n",
    "\n"
   ]
  }
 ],
 "metadata": {
  "kernelspec": {
   "display_name": "Python 3",
   "language": "python",
   "name": "python3"
  },
  "language_info": {
   "name": "python",
   "version": "3.8.10 (default, Nov 14 2022, 12:59:47) \n[GCC 9.4.0]"
  },
  "orig_nbformat": 4,
  "vscode": {
   "interpreter": {
    "hash": "916dbcbb3f70747c44a77c7bcd40155683ae19c65e1c03b4aa3499c5328201f1"
   }
  }
 },
 "nbformat": 4,
 "nbformat_minor": 2
}
